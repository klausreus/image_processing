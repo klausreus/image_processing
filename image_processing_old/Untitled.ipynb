{
 "cells": [
  {
   "cell_type": "code",
   "execution_count": 1,
   "id": "a5357b72-f6ea-4ce4-99fc-aba0f6b482d1",
   "metadata": {},
   "outputs": [
    {
     "name": "stdout",
     "output_type": "stream",
     "text": [
      "\u001b[1m\u001b[94mnbdev_bump_version\u001b[22m\u001b[39m        Increment version in settings.ini by one\n",
      "\u001b[1m\u001b[94mnbdev_changelog\u001b[22m\u001b[39m           Create a CHANGELOG.md file from closed and labeled GitHub issues\n",
      "\u001b[1m\u001b[94mnbdev_clean\u001b[22m\u001b[39m               Clean all notebooks in `fname` to avoid merge conflicts\n",
      "\u001b[1m\u001b[94mnbdev_conda\u001b[22m\u001b[39m               Create a `meta.yaml` file ready to be built into a package, and optionally build and upload it\n",
      "\u001b[1m\u001b[94mnbdev_create_config\u001b[22m\u001b[39m       Create a config file.\n",
      "\u001b[1m\u001b[94mnbdev_docs\u001b[22m\u001b[39m                Create Quarto docs and README.md\n",
      "\u001b[1m\u001b[94mnbdev_export\u001b[22m\u001b[39m              Export notebooks in `path` to Python modules\n",
      "\u001b[1m\u001b[94mnbdev_filter\u001b[22m\u001b[39m              A notebook filter for Quarto\n",
      "\u001b[1m\u001b[94mnbdev_fix\u001b[22m\u001b[39m                 Create working notebook from conflicted notebook `nbname`\n",
      "\u001b[1m\u001b[94mnbdev_help\u001b[22m\u001b[39m                Show help for all console scripts\n",
      "\u001b[1m\u001b[94mnbdev_install\u001b[22m\u001b[39m             Install Quarto and the current library\n",
      "\u001b[1m\u001b[94mnbdev_install_hooks\u001b[22m\u001b[39m       Install Jupyter and git hooks to automatically clean, trust, and fix merge conflicts in notebooks\n",
      "\u001b[1m\u001b[94mnbdev_install_quarto\u001b[22m\u001b[39m      Install latest Quarto on macOS or Linux, prints instructions for Windows\n",
      "\u001b[1m\u001b[94mnbdev_merge\u001b[22m\u001b[39m               Git merge driver for notebooks\n",
      "\u001b[1m\u001b[94mnbdev_migrate\u001b[22m\u001b[39m             Convert all markdown and notebook files in `path` from v1 to v2\n",
      "\u001b[1m\u001b[94mnbdev_new\u001b[22m\u001b[39m                 Create an nbdev project.\n",
      "\u001b[1m\u001b[94mnbdev_prepare\u001b[22m\u001b[39m             Export, test, and clean notebooks, and render README if needed\n",
      "\u001b[1m\u001b[94mnbdev_preview\u001b[22m\u001b[39m             Preview docs locally\n",
      "\u001b[1m\u001b[94mnbdev_proc_nbs\u001b[22m\u001b[39m            Process notebooks in `path` for docs rendering\n",
      "\u001b[1m\u001b[94mnbdev_pypi\u001b[22m\u001b[39m                Create and upload Python package to PyPI\n",
      "\u001b[1m\u001b[94mnbdev_readme\u001b[22m\u001b[39m              Create README.md from readme_nb (index.ipynb by default)\n",
      "\u001b[1m\u001b[94mnbdev_release_both\u001b[22m\u001b[39m        Release both conda and PyPI packages\n",
      "\u001b[1m\u001b[94mnbdev_release_gh\u001b[22m\u001b[39m          Calls `nbdev_changelog`, lets you edit the result, then pushes to git and calls `nbdev_release_git`\n",
      "\u001b[1m\u001b[94mnbdev_release_git\u001b[22m\u001b[39m         Tag and create a release in GitHub for the current version\n",
      "\u001b[1m\u001b[94mnbdev_requirements\u001b[22m\u001b[39m        Writes a `requirements.txt` file to `directory` based on settings.ini.\n",
      "\u001b[1m\u001b[94mnbdev_sidebar\u001b[22m\u001b[39m             Create sidebar.yml\n",
      "\u001b[1m\u001b[94mnbdev_test\u001b[22m\u001b[39m                Test in parallel notebooks matching `path`, passing along `flags`\n",
      "\u001b[1m\u001b[94mnbdev_trust\u001b[22m\u001b[39m               Trust notebooks matching `fname`\n",
      "\u001b[1m\u001b[94mnbdev_update\u001b[22m\u001b[39m              Propagate change in modules matching `fname` to notebooks that created them\n",
      "\u001b[1m\u001b[94mnbdev_update_license\u001b[22m\u001b[39m      Allows you to update the license of your project.\n"
     ]
    }
   ],
   "source": [
    "!nbdev_help"
   ]
  },
  {
   "cell_type": "code",
   "execution_count": 2,
   "id": "63531535-91cf-4354-a068-4eb4da7fcd99",
   "metadata": {},
   "outputs": [
    {
     "name": "stdout",
     "output_type": "stream",
     "text": [
      "Installing or upgrading quarto -- this requires root access.\n",
      "sh: 1: sudo: not found\n",
      "Cancelled. Please download and install Quarto from quarto.org.\n",
      "sh: 1: sudo: not found\n"
     ]
    }
   ],
   "source": [
    "!nbdev_install_quarto"
   ]
  },
  {
   "cell_type": "code",
   "execution_count": null,
   "id": "68fee031-44ab-4d82-8dad-d934bb9c6ae6",
   "metadata": {},
   "outputs": [],
   "source": []
  }
 ],
 "metadata": {
  "kernelspec": {
   "display_name": "Python 3 (ipykernel)",
   "language": "python",
   "name": "python3"
  },
  "language_info": {
   "codemirror_mode": {
    "name": "ipython",
    "version": 3
   },
   "file_extension": ".py",
   "mimetype": "text/x-python",
   "name": "python",
   "nbconvert_exporter": "python",
   "pygments_lexer": "ipython3",
   "version": "3.12.3"
  }
 },
 "nbformat": 4,
 "nbformat_minor": 5
}
